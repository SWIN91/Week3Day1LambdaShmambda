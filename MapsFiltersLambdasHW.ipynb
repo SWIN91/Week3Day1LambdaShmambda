{
 "cells": [
  {
   "cell_type": "code",
   "execution_count": 3,
   "id": "af3f29af",
   "metadata": {},
   "outputs": [
    {
     "name": "stdout",
     "output_type": "stream",
     "text": [
      "['Argentina', 'San Diego', 'Boston', 'New York']\n"
     ]
    }
   ],
   "source": [
    "# Exercise #1\n",
    "# Filter out all of the empty strings from the list below\n",
    "# Output: ['Argentina', 'San Diego', 'Boston', 'New York']\n",
    "# places = [\" \",\"Argentina\", \" \", \"San Diego\",\"\",\"  \",\"\",\"Boston\",\"New York\"]\n",
    "places = [\" \",\"Argentina\", \" \", \"San Diego\",\"\",\"  \",\"\",\"Boston\",\"New York\"]\n",
    "\n",
    "def fullstringsOnly(listofstrings):\n",
    "    for s in listofstrings:\n",
    "        if s.strip() == \"\":                                       # This is the less efficient, but more beginner \n",
    "            return False                                          # - friendly version of the function so I can see \n",
    "        else:\n",
    "            return True\n",
    "print(list(filter(lambda place : False if place.strip() == \"\" else True, places)))   # This is the one-string lambda of the\n",
    "                                                                                     # same funct. More efficient.\n",
    "\n",
    "# print(fullstringsOnly(places))\n",
    "\n",
    "        "
   ]
  },
  {
   "cell_type": "code",
   "execution_count": 24,
   "id": "dc89cd08",
   "metadata": {},
   "outputs": [
    {
     "name": "stdout",
     "output_type": "stream",
     "text": [
      "['Gary A.J. Bernstein', 'Joel Carter', 'Andrew P. Garfield', 'Victor aNisimov', 'David hassELHOFF']\n"
     ]
    }
   ],
   "source": [
    "# Exercise #2\n",
    "# Write an anonymous function that sorts this list by the last name...\n",
    "# Hint: Use the \".sort()\" method and access the key\"\n",
    "# Output: ['Victor aNisimov', 'Gary A.J. Bernstein', 'Joel Carter', 'Andrew P. Garfield', 'David hassELHOFF']\n",
    "author = [\"Joel Carter\", \"Victor aNisimov\", \"Andrew P. Garfield\",\"David hassELHOFF\",\"Gary A.J. Bernstein\"]\n",
    "\n",
    "def myfunc(name):                                      # Isolating the index makes it a string type\n",
    "    srtd = name.split()                                # Assign a var to store result of splitting the string n2 a list\n",
    "    lastname = srtd[-1].upper()  # Grab the last name by indexing the end of line 8's var and assign the result a new var.\n",
    "    return lastname\n",
    "author.sort(key= myfunc) # Sort the entire list utilizing user-defined funct to achieve desired results.\n",
    "\n",
    "\n",
    "print(author)\n",
    "\n",
    "\n"
   ]
  },
  {
   "cell_type": "code",
   "execution_count": 69,
   "id": "564528fc",
   "metadata": {},
   "outputs": [
    {
     "name": "stdout",
     "output_type": "stream",
     "text": [
      "[('Nashua', 89.6), ('Boston', 53.6), ('Los Angelos', 111.2), ('Miami', 84.2)]\n"
     ]
    }
   ],
   "source": [
    "# Exercise #3\n",
    "# Convert the list below from Celsius to Farhenheit, using the map function with a lambda...\n",
    "# Output: [('Nashua', 89.6), ('Boston', 53.6), ('Los Angelos', 111.2), ('Miami', 84.2)]\n",
    "# # F = (9/5)*C + 32\n",
    "places = [('Nashua',32),(\"Boston\",12),(\"Los Angelos\",44),(\"Miami\",29)]\n",
    "\n",
    "print(list(map(lambda n: (n[0], (9/5) * n[1] + 32), places)))\n",
    "\n",
    "\n",
    "# List turns it all back into a list\n",
    "# Map iterates over places using the lambda function and turns back an object which is why we need list()\n",
    "# lambda >>> n = parameter >>> : same syntax as normal funct >>> \n",
    "    # The first n[0] returns 'Nashua', n[1] returns 9/5* int + 32 aka answer to the equation\n",
    "    # Need the first comma in the lambda function because we're returning a tuple with two items    \n",
    "  \n",
    "    \n",
    "\n",
    "\n",
    "\n"
   ]
  },
  {
   "cell_type": "code",
   "execution_count": 32,
   "id": "a7b1957a",
   "metadata": {},
   "outputs": [],
   "source": [
    "# Exercise #4\n",
    "# Write a recursion function to perform the fibonacci sequence up to the number passed in.\n",
    "# Output for fib(5) => \n",
    "# Iteration 0: 1\n",
    "# Iteration 1: 1\n",
    "# Iteration 2: 2\n",
    "# Iteration 3: 3\n",
    "# Iteration 4: 5\n",
    "# Iteration 5: 8"
   ]
  },
  {
   "cell_type": "code",
   "execution_count": null,
   "id": "6eaf2f08",
   "metadata": {},
   "outputs": [],
   "source": []
  },
  {
   "cell_type": "code",
   "execution_count": null,
   "id": "d038e2c6",
   "metadata": {},
   "outputs": [],
   "source": []
  }
 ],
 "metadata": {
  "kernelspec": {
   "display_name": "Python 3",
   "language": "python",
   "name": "python3"
  },
  "language_info": {
   "codemirror_mode": {
    "name": "ipython",
    "version": 3
   },
   "file_extension": ".py",
   "mimetype": "text/x-python",
   "name": "python",
   "nbconvert_exporter": "python",
   "pygments_lexer": "ipython3",
   "version": "3.8.8"
  }
 },
 "nbformat": 4,
 "nbformat_minor": 5
}
