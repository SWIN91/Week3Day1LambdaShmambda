{
 "cells": [
  {
   "cell_type": "code",
   "execution_count": 3,
   "source": [
    "# Exercise #1\r\n",
    "# Filter out all of the empty strings from the list below\r\n",
    "# Output: ['Argentina', 'San Diego', 'Boston', 'New York']\r\n",
    "# places = [\" \",\"Argentina\", \" \", \"San Diego\",\"\",\"  \",\"\",\"Boston\",\"New York\"]\r\n",
    "places = [\" \",\"Argentina\", \" \", \"San Diego\",\"\",\"  \",\"\",\"Boston\",\"New York\"]\r\n",
    "\r\n",
    "def fullstringsOnly(listofstrings):\r\n",
    "    for s in listofstrings:\r\n",
    "        if s.strip() == \"\":                                       # This is the less efficient, but more beginner \r\n",
    "            return False                                          # - friendly version of the function so I can see \r\n",
    "        else:\r\n",
    "            return True\r\n",
    "print(list(filter(lambda place : False if place.strip() == \"\" else True, places)))   # This is the one-string lambda of the\r\n",
    "                                                                                     # same funct. More efficient.\r\n",
    "\r\n",
    "# print(fullstringsOnly(places))\r\n",
    "\r\n",
    "        "
   ],
   "outputs": [
    {
     "output_type": "stream",
     "name": "stdout",
     "text": [
      "['Argentina', 'San Diego', 'Boston', 'New York']\n"
     ]
    }
   ],
   "metadata": {}
  },
  {
   "cell_type": "code",
   "execution_count": 2,
   "source": [
    "# Exercise #2\r\n",
    "# Write an anonymous function that sorts this list by the last name...\r\n",
    "# Hint: Use the \".sort()\" method and access the key\"\r\n",
    "# Output: ['Victor aNisimov', 'Gary A.J. Bernstein', 'Joel Carter', 'Andrew P. Garfield', 'David hassELHOFF']\r\n",
    "author = [\"Joel Carter\", \"Victor aNisimov\", \"Andrew P. Garfield\",\"David hassELHOFF\",\"Gary A.J. Bernstein\"]\r\n",
    "\r\n",
    "def myFunc(authlistrandom):\r\n",
    "    for name in authlistrandom:\r\n",
    "        pass\r\n",
    "\r\n",
    "\r\n",
    "\r\n",
    "\r\n"
   ],
   "outputs": [],
   "metadata": {}
  },
  {
   "cell_type": "code",
   "execution_count": 3,
   "source": [
    "# Exercise #3\r\n",
    "# Convert the list below from Celsius to Farhenheit, using the map function with a lambda...\r\n",
    "# Output: [('Nashua', 89.6), ('Boston', 53.6), ('Los Angelos', 111.2), ('Miami', 84.2)]\r\n",
    "# # F = (9/5)*C + 32\r\n",
    "# places = [('Nashua',32),(\"Boston\",12),(\"Los Angelos\",44),(\"Miami\",29)\r\n",
    "# # F = (9/5)*C + 32"
   ],
   "outputs": [],
   "metadata": {}
  },
  {
   "cell_type": "code",
   "execution_count": null,
   "source": [
    "# Exercise #4\r\n",
    "# Write a recursion function to perform the fibonacci sequence up to the number passed in.\r\n",
    "# Output for fib(5) => \r\n",
    "# Iteration 0: 1\r\n",
    "# Iteration 1: 1\r\n",
    "# Iteration 2: 2\r\n",
    "# Iteration 3: 3\r\n",
    "# Iteration 4: 5\r\n",
    "# Iteration 5: 8"
   ],
   "outputs": [],
   "metadata": {}
  }
 ],
 "metadata": {
  "kernelspec": {
   "display_name": "Python 3",
   "language": "python",
   "name": "python3"
  },
  "language_info": {
   "codemirror_mode": {
    "name": "ipython",
    "version": 3
   },
   "file_extension": ".py",
   "mimetype": "text/x-python",
   "name": "python",
   "nbconvert_exporter": "python",
   "pygments_lexer": "ipython3",
   "version": "3.8.8"
  }
 },
 "nbformat": 4,
 "nbformat_minor": 5
}